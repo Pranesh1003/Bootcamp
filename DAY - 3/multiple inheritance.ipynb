{
 "cells": [
  {
   "cell_type": "code",
   "execution_count": null,
   "metadata": {},
   "outputs": [],
   "source": [
    "class Dog:\n",
    "    def bark(self):\n",
    "        print(\"Woof!\")\n",
    "\n",
    "class Cat:\n",
    "    def meow(self):\n",
    "        print(\"Meow!\")\n",
    "    \n",
    "    def purr(self):\n",
    "        print(\"Purr...\")\n",
    "\n",
    "class Hybrid(Dog, Cat):\n",
    "    pass  \n",
    "\n",
    "\n",
    "hybrid = Hybrid()\n",
    "\n",
    "hybrid.bark()  \n",
    "hybrid.meow()  \n",
    "hybrid.purr()  "
   ]
  }
 ],
 "metadata": {
  "kernelspec": {
   "display_name": "Python 3",
   "language": "python",
   "name": "python3"
  },
  "language_info": {
   "name": "python",
   "version": "3.13.1"
  }
 },
 "nbformat": 4,
 "nbformat_minor": 2
}
