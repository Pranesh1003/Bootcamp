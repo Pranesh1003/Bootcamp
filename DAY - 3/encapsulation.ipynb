{
 "cells": [
  {
   "cell_type": "code",
   "execution_count": 1,
   "metadata": {},
   "outputs": [
    {
     "name": "stdout",
     "output_type": "stream",
     "text": [
      "Model: R2\n",
      "Cannot access energy directly\n",
      "Energy: 50\n",
      "Final energy: 90\n"
     ]
    }
   ],
   "source": [
    "class Robot:\n",
    "    def __init__(self, model, energy_level):\n",
    "        self._model = model           \n",
    "        self.__energy_level = energy_level  \n",
    "    \n",
    "    def get_energy(self):             \n",
    "        return self.__energy_level\n",
    "    \n",
    "    def set_energy(self, value):      \n",
    "        self.__energy_level = value\n",
    "    \n",
    "    def charge(self, amount):        \n",
    "        self.__energy_level += amount\n",
    "\n",
    "robot = Robot(\"R2\", 50)\n",
    "\n",
    "print(\"Model:\", robot._model)         \n",
    "try:\n",
    "    print(robot.__energy_level)       \n",
    "except AttributeError:\n",
    "    print(\"Cannot access energy directly\")\n",
    "\n",
    "print(\"Energy:\", robot.get_energy())  \n",
    "robot.set_energy(70)                  \n",
    "robot.charge(20)                     \n",
    "print(\"Final energy:\", robot.get_energy())"
   ]
  }
 ],
 "metadata": {
  "kernelspec": {
   "display_name": "myenv",
   "language": "python",
   "name": "python3"
  },
  "language_info": {
   "codemirror_mode": {
    "name": "ipython",
    "version": 3
   },
   "file_extension": ".py",
   "mimetype": "text/x-python",
   "name": "python",
   "nbconvert_exporter": "python",
   "pygments_lexer": "ipython3",
   "version": "3.13.1"
  }
 },
 "nbformat": 4,
 "nbformat_minor": 2
}
