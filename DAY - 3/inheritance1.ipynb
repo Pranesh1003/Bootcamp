{
 "cells": [
  {
   "cell_type": "code",
   "execution_count": null,
   "metadata": {},
   "outputs": [],
   "source": [
    "class Dog:\n",
    "    def __init__(self, name, age):\n",
    "        self.name = name\n",
    "        self.age = age\n",
    "    \n",
    "    def bark(self):\n",
    "        print(f\"{self.name} says: Woof!\")\n",
    "    \n",
    "    def sleep(self):\n",
    "        print(f\"{self.name} is sleeping.\")\n",
    "\n",
    "class Puppy(Dog):\n",
    "    def play(self): \n",
    "        print(f\"{self.name} is playing!\")\n",
    "\n",
    "\n",
    "puppy = Puppy(\"Max\", 1)\n",
    "\n",
    "puppy.bark()  \n",
    "puppy.sleep()  \n",
    "puppy.play()   "
   ]
  }
 ],
 "metadata": {
  "kernelspec": {
   "display_name": "Python 3",
   "language": "python",
   "name": "python3"
  },
  "language_info": {
   "name": "python",
   "version": "3.13.1"
  }
 },
 "nbformat": 4,
 "nbformat_minor": 2
}
