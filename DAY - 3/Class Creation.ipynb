{
 "cells": [
  {
   "cell_type": "code",
   "execution_count": 1,
   "id": "e22c8ffb-b50d-475d-90cd-0fe0519ec1d8",
   "metadata": {},
   "outputs": [
    {
     "name": "stdout",
     "output_type": "stream",
     "text": [
      "Buddy is barking! Woof! Woof!\n",
      "Buddy is sleeping... Zzz...\n"
     ]
    }
   ],
   "source": [
    "class Dog:\n",
    "    def __init__(self, name, age):\n",
    "        self.name = name  # Assign the dog's name\n",
    "        self.age = age    # Assign the dog's age\n",
    "\n",
    "    def bark(self):\n",
    "        print(f\"{self.name} is barking! Woof! Woof!\")\n",
    "\n",
    "    def sleep(self):\n",
    "        print(f\"{self.name} is sleeping... Zzz...\")\n",
    "\n",
    "# Creating an instance of Dog\n",
    "dog1 = Dog(\"Buddy\", 3)\n",
    "\n",
    "# Calling methods\n",
    "dog1.bark()   # Output: Buddy is barking! Woof! Woof!\n",
    "dog1.sleep()  # Output: Buddy is sleeping... Zzz...\n"
   ]
  },
  {
   "cell_type": "code",
   "execution_count": null,
   "id": "1e39b6f4-7809-458d-ad1a-7dca022daaee",
   "metadata": {},
   "outputs": [],
   "source": []
  }
 ],
 "metadata": {
  "kernelspec": {
   "display_name": "Python 3 (ipykernel)",
   "language": "python",
   "name": "python3"
  },
  "language_info": {
   "codemirror_mode": {
    "name": "ipython",
    "version": 3
   },
   "file_extension": ".py",
   "mimetype": "text/x-python",
   "name": "python",
   "nbconvert_exporter": "python",
   "pygments_lexer": "ipython3",
   "version": "3.12.4"
  }
 },
 "nbformat": 4,
 "nbformat_minor": 5
}
