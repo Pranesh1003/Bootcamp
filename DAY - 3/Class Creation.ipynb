# In a single Jupyter cell
class Dog:
    def __init__(self, name, age):
        self.name = name
        self.age = age
    
    def bark(self):
        print(f"{self.name} says: Woof! Woof!")
    
    def sleep(self):
        print(f"{self.name} is sleeping... zzz")

my_dog = Dog("Buddy", 3)
my_dog.bark()
my_dog.sleep()
