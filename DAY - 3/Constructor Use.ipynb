{
 "cells": [
  {
   "cell_type": "code",
   "execution_count": 1,
   "id": "d37d8aa3-7bc7-4af1-80c1-d5dc923532fd",
   "metadata": {},
   "outputs": [
    {
     "name": "stdout",
     "output_type": "stream",
     "text": [
      "Dog's Name: Zaara\n",
      "Dog's Age: 3\n",
      "Zaara is barking! Woof! Woof!\n",
      "Zaara is sleeping... Zzz...\n"
     ]
    }
   ],
   "source": [
    "class Dog:\n",
    "    def __init__(self, name, age):\n",
    "        self.name = name \n",
    "        self.age = age   \n",
    "\n",
    "    def bark(self):\n",
    "        print(f\"{self.name} is barking! Woof! Woof!\")\n",
    "\n",
    "    def sleep(self):\n",
    "        print(f\"{self.name} is sleeping... Zzz...\")\n",
    "\n",
    "\n",
    "a = Dog(\"Buddy\", 3)\n",
    "\n",
    "\n",
    "print(f\"Dog's Name: {a.name}\") \n",
    "print(f\"Dog's Age: {a.age}\")   \n",
    "\n",
    "\n",
    "a.bark()  \n",
    "a.sleep()  \n"
   ]
  },
  {
   "cell_type": "code",
   "execution_count": null,
   "id": "d8abd7d4-a678-4bab-b7ad-2ede42c3d6b8",
   "metadata": {},
   "outputs": [],
   "source": []
  }
 ],
 "metadata": {
  "kernelspec": {
   "display_name": "Python 3 (ipykernel)",
   "language": "python",
   "name": "python3"
  },
  "language_info": {
   "codemirror_mode": {
    "name": "ipython",
    "version": 3
   },
   "file_extension": ".py",
   "mimetype": "text/x-python",
   "name": "python",
   "nbconvert_exporter": "python",
   "pygments_lexer": "ipython3",
   "version": "3.12.4"
  }
 },
 "nbformat": 4,
 "nbformat_minor": 5
}
