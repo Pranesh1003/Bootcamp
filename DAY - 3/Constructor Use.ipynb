{
 "cells": [
  {
   "cell_type": "code",
   "execution_count": 1,
   "id": "d37d8aa3-7bc7-4af1-80c1-d5dc923532fd",
   "metadata": {},
   "outputs": [
    {
     "name": "stdout",
     "output_type": "stream",
     "text": [
      "Dog's Name: Buddy\n",
      "Dog's Age: 3\n",
      "Buddy is barking! Woof! Woof!\n",
      "Buddy is sleeping... Zzz...\n"
     ]
    }
   ],
   "source": [
    "class Dog:\n",
    "    def __init__(self, name, age):\n",
    "        self.name = name  # Assigns the 'name' argument to the instance attribute\n",
    "        self.age = age    # Assigns the 'age' argument to the instance attribute\n",
    "\n",
    "    def bark(self):\n",
    "        print(f\"{self.name} is barking! Woof! Woof!\")\n",
    "\n",
    "    def sleep(self):\n",
    "        print(f\"{self.name} is sleeping... Zzz...\")\n",
    "\n",
    "# Creating a Dog object\n",
    "dog1 = Dog(\"Buddy\", 3)\n",
    "\n",
    "# Accessing attributes\n",
    "print(f\"Dog's Name: {dog1.name}\")  # Output: Dog's Name: Buddy\n",
    "print(f\"Dog's Age: {dog1.age}\")    # Output: Dog's Age: 3\n",
    "\n",
    "# Calling methods\n",
    "dog1.bark()   # Output: Buddy is barking! Woof! Woof!\n",
    "dog1.sleep()  # Output: Buddy is sleeping... Zzz...\n"
   ]
  },
  {
   "cell_type": "code",
   "execution_count": null,
   "id": "d8abd7d4-a678-4bab-b7ad-2ede42c3d6b8",
   "metadata": {},
   "outputs": [],
   "source": []
  }
 ],
 "metadata": {
  "kernelspec": {
   "display_name": "Python 3 (ipykernel)",
   "language": "python",
   "name": "python3"
  },
  "language_info": {
   "codemirror_mode": {
    "name": "ipython",
    "version": 3
   },
   "file_extension": ".py",
   "mimetype": "text/x-python",
   "name": "python",
   "nbconvert_exporter": "python",
   "pygments_lexer": "ipython3",
   "version": "3.12.4"
  }
 },
 "nbformat": 4,
 "nbformat_minor": 5
}
