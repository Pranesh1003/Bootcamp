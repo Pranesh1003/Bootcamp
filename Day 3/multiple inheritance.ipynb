{
 "cells": [
  {
   "cell_type": "code",
   "execution_count": 2,
   "metadata": {},
   "outputs": [
    {
     "name": "stdout",
     "output_type": "stream",
     "text": [
      "Woof!\n",
      "Meow!\n",
      "Purr...\n"
     ]
    }
   ],
   "source": [
    "class Dog:\n",
    "    def bark(self):\n",
    "        print(\"Woof!\")\n",
    "\n",
    "class Cat:\n",
    "    def meow(self):\n",
    "        print(\"Meow!\")\n",
    "    \n",
    "    def purr(self):\n",
    "        print(\"Purr...\")\n",
    "\n",
    "class Hybrid(Dog, Cat):\n",
    "    pass  \n",
    "\n",
    "\n",
    "hybrid = Hybrid()\n",
    "\n",
    "hybrid.bark()  \n",
    "hybrid.meow()  \n",
    "hybrid.purr()  "
   ]
  }
 ],
 "metadata": {
  "kernelspec": {
   "display_name": "Python 3",
   "language": "python",
   "name": "python3"
  },
  "language_info": {
   "codemirror_mode": {
    "name": "ipython",
    "version": 3
   },
   "file_extension": ".py",
   "mimetype": "text/x-python",
   "name": "python",
   "nbconvert_exporter": "python",
   "pygments_lexer": "ipython3",
   "version": "3.13.1"
  }
 },
 "nbformat": 4,
 "nbformat_minor": 2
}
